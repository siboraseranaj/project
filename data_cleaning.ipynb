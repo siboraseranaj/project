{
 "cells": [
  {
   "cell_type": "code",
   "execution_count": 85,
   "metadata": {},
   "outputs": [],
   "source": [
    "import pandas as pd\n",
    "import numpy as np\n",
    "import matplotlib.pyplot as plt"
   ]
  },
  {
   "cell_type": "code",
   "execution_count": 252,
   "metadata": {},
   "outputs": [
    {
     "name": "stderr",
     "output_type": "stream",
     "text": [
      "/Users/siboraseranaj/opt/anaconda3/lib/python3.8/site-packages/IPython/core/interactiveshell.py:3146: DtypeWarning: Columns (31) have mixed types.Specify dtype option on import or set low_memory=False.\n",
      "  has_raised = await self.run_ast_nodes(code_ast.body, cell_name,\n"
     ]
    }
   ],
   "source": [
    "df = pd.read_csv('/Users/siboraseranaj/Desktop/project/STA440- Project/IST_corrected1.csv')"
   ]
  },
  {
   "cell_type": "code",
   "execution_count": 271,
   "metadata": {},
   "outputs": [
    {
     "data": {
      "text/plain": [
       "array([2, 4, 3, 9, 1, 0])"
      ]
     },
     "execution_count": 271,
     "metadata": {},
     "output_type": "execute_result"
    }
   ],
   "source": [
    "# result at six months\n",
    "df[\"OCCODE\"].unique()"
   ]
  },
  {
   "cell_type": "code",
   "execution_count": 272,
   "metadata": {},
   "outputs": [
    {
     "data": {
      "text/plain": [
       "array([17, 10, 43,  6, 20, 39,  4, 24, 18, 13, 14, 16,  5, 12,  8, 29, 21,\n",
       "       22,  2, 35, 45, 19,  3, 11,  9, 23, 26, 47, 25, 15, 28, 40, 30, 32,\n",
       "       36, 34, 42, 38, 27,  7, 46, 48, 33, 37, 31, 41, 44,  1])"
      ]
     },
     "execution_count": 272,
     "metadata": {},
     "output_type": "execute_result"
    }
   ],
   "source": [
    "# My question: for people given this medicine, who dies and who doesnt - with the measurment at 6 months \n",
    "# for this first question I need: the time of death(TD), did they die or not(OCCODE), and other variables that I will choose: \n",
    "# some physical characteristics, recurrent stroke or not\n",
    "\n",
    "# My second question is: for people given this medicine, who will get new stroke and who will not - \n",
    "# for that I will look at any type of stroke,  DRSISC , and manually input the date of that happening. I guess other people would be censored\n",
    "\n",
    "\n",
    "# known to be dead or alive at 14 days - this is my status set14, you have to ask professor for this\n",
    "df[\"RDELAY\"].unique()\n",
    "\n",
    "# I also need the time of death during those 14 days"
   ]
  },
  {
   "cell_type": "code",
   "execution_count": 273,
   "metadata": {},
   "outputs": [],
   "source": [
    "# stroke columns 'DRSISC', \"DRSH\", \"DRSUNK\", \"DPE\"\n",
    "\n",
    "columns = ['RDELAY', 'SEX','AGE','RCONSC','RVISINF','RSBP','RDEF1',\n",
    "           'RDEF2','RDEF3','RDEF4','RDEF5','RDEF6','RDEF7',\n",
    "           'RDEF8','STYPE','RXASP','RATRIAL','RXHEP','TD','OCCODE','DRSISC', \"DRSH\", \"DRSUNK\", \"DPE\"]"
   ]
  },
  {
   "cell_type": "code",
   "execution_count": 274,
   "metadata": {},
   "outputs": [],
   "source": [
    "obj1_df = df[columns]"
   ]
  },
  {
   "cell_type": "code",
   "execution_count": 275,
   "metadata": {},
   "outputs": [
    {
     "name": "stderr",
     "output_type": "stream",
     "text": [
      "<ipython-input-275-7b95df005131>:9: SettingWithCopyWarning: \n",
      "A value is trying to be set on a copy of a slice from a DataFrame.\n",
      "Try using .loc[row_indexer,col_indexer] = value instead\n",
      "\n",
      "See the caveats in the documentation: https://pandas.pydata.org/pandas-docs/stable/user_guide/indexing.html#returning-a-view-versus-a-copy\n",
      "  obj1_df['OCCODE'] = obj1_df['OCCODE'].apply(lambda x: change_OCCODE(x))\n"
     ]
    }
   ],
   "source": [
    "def change_OCCODE(row):\n",
    "    if row == 1:\n",
    "        return 1\n",
    "    elif row == 9 or row == 0:\n",
    "        return None\n",
    "    else:\n",
    "        return 0\n",
    "\n",
    "obj1_df['OCCODE'] = obj1_df['OCCODE'].apply(lambda x: change_OCCODE(x))"
   ]
  },
  {
   "cell_type": "code",
   "execution_count": 276,
   "metadata": {},
   "outputs": [],
   "source": [
    "obj1_df = obj1_df.dropna(subset=['OCCODE']).reset_index(drop = True)"
   ]
  },
  {
   "cell_type": "code",
   "execution_count": 277,
   "metadata": {},
   "outputs": [],
   "source": [
    "def stroke_func(row):\n",
    "    if row[0] == 'Y' or row[1] == 'Y' or row[2] == 'Y' or row[3] == 'Y':\n",
    "        return 1\n",
    "    else:\n",
    "        return 0\n",
    "    \n",
    "obj1_df['recurrentstroke'] = obj1_df[['DRSISC', \"DRSH\", \"DRSUNK\", \"DPE\"]].apply(lambda x: stroke_func(x),axis = 1)"
   ]
  },
  {
   "cell_type": "code",
   "execution_count": 278,
   "metadata": {},
   "outputs": [],
   "source": [
    "#def change_DF(row):\n",
    " #   if row[0] == 1 and (row[1]) > 185:\n",
    "  #      return str(row[1])+'+'\n",
    "  #  else:\n",
    "   #     return str(row[1])\n",
    "    \n",
    "#obj1_df['TD'] = obj1_df[['OCCODE','TD']].apply(lambda x: change_DF(x),axis = 1)\n",
    "\n"
   ]
  },
  {
   "cell_type": "code",
   "execution_count": 306,
   "metadata": {},
   "outputs": [],
   "source": [
    "obj_1_1 = obj1_df.copy()"
   ]
  },
  {
   "cell_type": "code",
   "execution_count": 280,
   "metadata": {},
   "outputs": [],
   "source": [
    "def treatment(row):\n",
    "    if row[0] == 'Y' and row[1] == 'N':\n",
    "        return 'ASP'\n",
    "    elif row[0] == 'N' and (row[1] == 'H' or row[1] == 'L' or row[1] == 'M'):\n",
    "        return 'HEP'\n",
    "    elif row[0] == 'Y' and (row[1] == 'H' or row[1] == 'L' or row[1] == 'M'):\n",
    "        return 'BOTH'\n",
    "    else:\n",
    "        return 'NONE'\n",
    "\n",
    "obj1_df['trt'] = obj1_df[['RXASP','RXHEP']].apply(lambda x: treatment(x), axis = 1)    "
   ]
  },
  {
   "cell_type": "code",
   "execution_count": 281,
   "metadata": {},
   "outputs": [],
   "source": [
    "# only people with aspirin or heparin 9146 patients\n",
    "HEPorASP = obj1_df.loc[((obj1_df[\"trt\"] == \"ASP\") | (obj1_df[\"trt\"] == \"HEP\"))]"
   ]
  },
  {
   "cell_type": "code",
   "execution_count": 282,
   "metadata": {},
   "outputs": [],
   "source": [
    "HEPorASP = HEPorASP.dropna(subset=['RATRIAL']).reset_index(drop = True)"
   ]
  },
  {
   "cell_type": "code",
   "execution_count": 283,
   "metadata": {},
   "outputs": [
    {
     "data": {
      "text/plain": [
       "9146"
      ]
     },
     "execution_count": 283,
     "metadata": {},
     "output_type": "execute_result"
    }
   ],
   "source": [
    "len(HEPorASP)"
   ]
  },
  {
   "cell_type": "code",
   "execution_count": 284,
   "metadata": {},
   "outputs": [],
   "source": [
    "# numerical value for amount of symptoms presented at admission\n",
    "def count_def(row):\n",
    "    count = 0\n",
    "    for i in range(len(row)):\n",
    "        if row[i] == 'Y':\n",
    "            count += 1\n",
    "    return count\n",
    "\n",
    "HEPorASP['physicaldeficit'] = HEPorASP[['RDEF1', 'RDEF2',\n",
    "       'RDEF3', 'RDEF4', 'RDEF5', 'RDEF6', 'RDEF7', 'RDEF8']].apply(lambda x: count_def(x),axis = 1)"
   ]
  },
  {
   "cell_type": "code",
   "execution_count": 285,
   "metadata": {},
   "outputs": [
    {
     "name": "stdout",
     "output_type": "stream",
     "text": [
      "Index(['RDELAY', 'SEX', 'AGE', 'RCONSC', 'RVISINF', 'RSBP', 'RDEF1', 'RDEF2',\n",
      "       'RDEF3', 'RDEF4', 'RDEF5', 'RDEF6', 'RDEF7', 'RDEF8', 'STYPE', 'RXASP',\n",
      "       'RATRIAL', 'RXHEP', 'TD', 'OCCODE', 'DRSISC', 'DRSH', 'DRSUNK', 'DPE',\n",
      "       'recurrentstroke', 'trt', 'physicaldeficit'],\n",
      "      dtype='object')\n"
     ]
    }
   ],
   "source": [
    "print(HEPorASP.columns)"
   ]
  },
  {
   "cell_type": "code",
   "execution_count": 286,
   "metadata": {},
   "outputs": [],
   "source": [
    "HEPorASP = HEPorASP.rename(columns={'RVISINF':\"infarct\",\n",
    "                       'RSBP':\"bloodpressure\" , \"OCCODE\": \"death\", \"SEX\":\"sex\", \"AGE\":\"age\",\n",
    "                       'STYPE':\"strokesubtype\", 'TD':\"timedeath\",\n",
    "                       'RDELAY':\"timedelay\",'RCONSC':'concious', 'RATRIAL' : 'atrialfibrillation'})\n"
   ]
  },
  {
   "cell_type": "code",
   "execution_count": 287,
   "metadata": {},
   "outputs": [],
   "source": [
    "HEPorASP.drop(['RDEF1','RDEF2','RDEF3', 'RDEF4', 'RDEF5', 'RDEF6', 'RDEF7', 'RDEF8', 'RXASP', \"RXHEP\", 'DRSISC', 'DRSH', 'DRSUNK','DPE'], inplace=True, axis=1)"
   ]
  },
  {
   "cell_type": "code",
   "execution_count": 289,
   "metadata": {},
   "outputs": [
    {
     "data": {
      "text/html": [
       "<div>\n",
       "<style scoped>\n",
       "    .dataframe tbody tr th:only-of-type {\n",
       "        vertical-align: middle;\n",
       "    }\n",
       "\n",
       "    .dataframe tbody tr th {\n",
       "        vertical-align: top;\n",
       "    }\n",
       "\n",
       "    .dataframe thead th {\n",
       "        text-align: right;\n",
       "    }\n",
       "</style>\n",
       "<table border=\"1\" class=\"dataframe\">\n",
       "  <thead>\n",
       "    <tr style=\"text-align: right;\">\n",
       "      <th></th>\n",
       "      <th>timedelay</th>\n",
       "      <th>sex</th>\n",
       "      <th>age</th>\n",
       "      <th>concious</th>\n",
       "      <th>infarct</th>\n",
       "      <th>bloodpressure</th>\n",
       "      <th>strokesubtype</th>\n",
       "      <th>atrialfibrillation</th>\n",
       "      <th>timedeath</th>\n",
       "      <th>death</th>\n",
       "      <th>recurrentstroke</th>\n",
       "      <th>trt</th>\n",
       "      <th>physicaldeficit</th>\n",
       "    </tr>\n",
       "  </thead>\n",
       "  <tbody>\n",
       "    <tr>\n",
       "      <th>0</th>\n",
       "      <td>20</td>\n",
       "      <td>F</td>\n",
       "      <td>64</td>\n",
       "      <td>F</td>\n",
       "      <td>N</td>\n",
       "      <td>150</td>\n",
       "      <td>TACS</td>\n",
       "      <td>Y</td>\n",
       "      <td>233.0</td>\n",
       "      <td>0.0</td>\n",
       "      <td>0</td>\n",
       "      <td>ASP</td>\n",
       "      <td>4</td>\n",
       "    </tr>\n",
       "    <tr>\n",
       "      <th>1</th>\n",
       "      <td>19</td>\n",
       "      <td>M</td>\n",
       "      <td>54</td>\n",
       "      <td>F</td>\n",
       "      <td>N</td>\n",
       "      <td>160</td>\n",
       "      <td>POCS</td>\n",
       "      <td>N</td>\n",
       "      <td>233.0</td>\n",
       "      <td>0.0</td>\n",
       "      <td>0</td>\n",
       "      <td>ASP</td>\n",
       "      <td>2</td>\n",
       "    </tr>\n",
       "    <tr>\n",
       "      <th>2</th>\n",
       "      <td>20</td>\n",
       "      <td>F</td>\n",
       "      <td>79</td>\n",
       "      <td>D</td>\n",
       "      <td>N</td>\n",
       "      <td>175</td>\n",
       "      <td>TACS</td>\n",
       "      <td>N</td>\n",
       "      <td>29.0</td>\n",
       "      <td>1.0</td>\n",
       "      <td>0</td>\n",
       "      <td>HEP</td>\n",
       "      <td>6</td>\n",
       "    </tr>\n",
       "    <tr>\n",
       "      <th>3</th>\n",
       "      <td>24</td>\n",
       "      <td>M</td>\n",
       "      <td>62</td>\n",
       "      <td>F</td>\n",
       "      <td>N</td>\n",
       "      <td>150</td>\n",
       "      <td>TACS</td>\n",
       "      <td>N</td>\n",
       "      <td>184.0</td>\n",
       "      <td>0.0</td>\n",
       "      <td>0</td>\n",
       "      <td>HEP</td>\n",
       "      <td>3</td>\n",
       "    </tr>\n",
       "    <tr>\n",
       "      <th>4</th>\n",
       "      <td>29</td>\n",
       "      <td>F</td>\n",
       "      <td>64</td>\n",
       "      <td>D</td>\n",
       "      <td>Y</td>\n",
       "      <td>130</td>\n",
       "      <td>PACS</td>\n",
       "      <td>N</td>\n",
       "      <td>186.0</td>\n",
       "      <td>0.0</td>\n",
       "      <td>0</td>\n",
       "      <td>ASP</td>\n",
       "      <td>3</td>\n",
       "    </tr>\n",
       "  </tbody>\n",
       "</table>\n",
       "</div>"
      ],
      "text/plain": [
       "   timedelay sex  age concious infarct  bloodpressure strokesubtype  \\\n",
       "0         20   F   64        F       N            150          TACS   \n",
       "1         19   M   54        F       N            160          POCS   \n",
       "2         20   F   79        D       N            175          TACS   \n",
       "3         24   M   62        F       N            150          TACS   \n",
       "4         29   F   64        D       Y            130          PACS   \n",
       "\n",
       "  atrialfibrillation  timedeath  death  recurrentstroke  trt  physicaldeficit  \n",
       "0                  Y      233.0    0.0                0  ASP                4  \n",
       "1                  N      233.0    0.0                0  ASP                2  \n",
       "2                  N       29.0    1.0                0  HEP                6  \n",
       "3                  N      184.0    0.0                0  HEP                3  \n",
       "4                  N      186.0    0.0                0  ASP                3  "
      ]
     },
     "execution_count": 289,
     "metadata": {},
     "output_type": "execute_result"
    }
   ],
   "source": [
    "HEPorASP.head()"
   ]
  },
  {
   "cell_type": "code",
   "execution_count": 290,
   "metadata": {},
   "outputs": [],
   "source": [
    "HEPorASP.to_csv('/Users/siboraseranaj/Desktop/project/STA440- Project/HEPorASP.csv')"
   ]
  },
  {
   "cell_type": "markdown",
   "metadata": {},
   "source": [
    "# Heparin high or low"
   ]
  },
  {
   "cell_type": "code",
   "execution_count": 307,
   "metadata": {},
   "outputs": [
    {
     "data": {
      "text/plain": [
       "array(['N', 'L', 'H', 'M'], dtype=object)"
      ]
     },
     "execution_count": 307,
     "metadata": {},
     "output_type": "execute_result"
    }
   ],
   "source": [
    "obj_1_1[\"RXHEP\"].unique()"
   ]
  },
  {
   "cell_type": "code",
   "execution_count": 308,
   "metadata": {},
   "outputs": [],
   "source": [
    "obj_1_1 = obj_1_1[obj_1_1[\"RXASP\"] == \"N\"].reset_index(drop = True)"
   ]
  },
  {
   "cell_type": "code",
   "execution_count": 309,
   "metadata": {},
   "outputs": [],
   "source": [
    "obj_1_1 = obj_1_1[obj_1_1[\"RXHEP\"] != \"N\"].reset_index(drop = True)"
   ]
  },
  {
   "cell_type": "code",
   "execution_count": 310,
   "metadata": {},
   "outputs": [],
   "source": [
    "def trthep(row):\n",
    "    if row == \"L\":\n",
    "        return \"L\"\n",
    "    else:\n",
    "        return \"H\"\n",
    "    \n",
    "obj_1_1[\"RXHEP\"] = obj_1_1[\"RXHEP\"].apply(lambda x : trthep(x))"
   ]
  },
  {
   "cell_type": "code",
   "execution_count": 311,
   "metadata": {},
   "outputs": [],
   "source": [
    "obj_1_1 = obj_1_1.dropna(subset=['RATRIAL']).reset_index(drop = True)"
   ]
  },
  {
   "cell_type": "code",
   "execution_count": 312,
   "metadata": {},
   "outputs": [
    {
     "data": {
      "text/html": [
       "<div>\n",
       "<style scoped>\n",
       "    .dataframe tbody tr th:only-of-type {\n",
       "        vertical-align: middle;\n",
       "    }\n",
       "\n",
       "    .dataframe tbody tr th {\n",
       "        vertical-align: top;\n",
       "    }\n",
       "\n",
       "    .dataframe thead th {\n",
       "        text-align: right;\n",
       "    }\n",
       "</style>\n",
       "<table border=\"1\" class=\"dataframe\">\n",
       "  <thead>\n",
       "    <tr style=\"text-align: right;\">\n",
       "      <th></th>\n",
       "      <th>RDELAY</th>\n",
       "      <th>SEX</th>\n",
       "      <th>AGE</th>\n",
       "      <th>RCONSC</th>\n",
       "      <th>RVISINF</th>\n",
       "      <th>RSBP</th>\n",
       "      <th>RDEF1</th>\n",
       "      <th>RDEF2</th>\n",
       "      <th>RDEF3</th>\n",
       "      <th>RDEF4</th>\n",
       "      <th>...</th>\n",
       "      <th>RXHEP</th>\n",
       "      <th>TD</th>\n",
       "      <th>OCCODE</th>\n",
       "      <th>DRSISC</th>\n",
       "      <th>DRSH</th>\n",
       "      <th>DRSUNK</th>\n",
       "      <th>DPE</th>\n",
       "      <th>recurrentstroke</th>\n",
       "      <th>trt</th>\n",
       "      <th>count_def</th>\n",
       "    </tr>\n",
       "  </thead>\n",
       "  <tbody>\n",
       "    <tr>\n",
       "      <th>0</th>\n",
       "      <td>20</td>\n",
       "      <td>F</td>\n",
       "      <td>79</td>\n",
       "      <td>D</td>\n",
       "      <td>N</td>\n",
       "      <td>175</td>\n",
       "      <td>Y</td>\n",
       "      <td>Y</td>\n",
       "      <td>Y</td>\n",
       "      <td>Y</td>\n",
       "      <td>...</td>\n",
       "      <td>L</td>\n",
       "      <td>29.0</td>\n",
       "      <td>1.0</td>\n",
       "      <td>N</td>\n",
       "      <td>N</td>\n",
       "      <td>N</td>\n",
       "      <td>N</td>\n",
       "      <td>0</td>\n",
       "      <td>HEP</td>\n",
       "      <td>6</td>\n",
       "    </tr>\n",
       "    <tr>\n",
       "      <th>1</th>\n",
       "      <td>24</td>\n",
       "      <td>M</td>\n",
       "      <td>62</td>\n",
       "      <td>F</td>\n",
       "      <td>N</td>\n",
       "      <td>150</td>\n",
       "      <td>N</td>\n",
       "      <td>Y</td>\n",
       "      <td>Y</td>\n",
       "      <td>Y</td>\n",
       "      <td>...</td>\n",
       "      <td>H</td>\n",
       "      <td>184.0</td>\n",
       "      <td>0.0</td>\n",
       "      <td>N</td>\n",
       "      <td>N</td>\n",
       "      <td>N</td>\n",
       "      <td>N</td>\n",
       "      <td>0</td>\n",
       "      <td>HEP</td>\n",
       "      <td>3</td>\n",
       "    </tr>\n",
       "    <tr>\n",
       "      <th>2</th>\n",
       "      <td>2</td>\n",
       "      <td>F</td>\n",
       "      <td>90</td>\n",
       "      <td>F</td>\n",
       "      <td>N</td>\n",
       "      <td>200</td>\n",
       "      <td>N</td>\n",
       "      <td>N</td>\n",
       "      <td>N</td>\n",
       "      <td>Y</td>\n",
       "      <td>...</td>\n",
       "      <td>L</td>\n",
       "      <td>55.0</td>\n",
       "      <td>1.0</td>\n",
       "      <td>N</td>\n",
       "      <td>N</td>\n",
       "      <td>N</td>\n",
       "      <td>N</td>\n",
       "      <td>0</td>\n",
       "      <td>HEP</td>\n",
       "      <td>2</td>\n",
       "    </tr>\n",
       "    <tr>\n",
       "      <th>3</th>\n",
       "      <td>30</td>\n",
       "      <td>M</td>\n",
       "      <td>57</td>\n",
       "      <td>F</td>\n",
       "      <td>N</td>\n",
       "      <td>150</td>\n",
       "      <td>N</td>\n",
       "      <td>Y</td>\n",
       "      <td>Y</td>\n",
       "      <td>N</td>\n",
       "      <td>...</td>\n",
       "      <td>L</td>\n",
       "      <td>187.0</td>\n",
       "      <td>0.0</td>\n",
       "      <td>N</td>\n",
       "      <td>N</td>\n",
       "      <td>N</td>\n",
       "      <td>N</td>\n",
       "      <td>0</td>\n",
       "      <td>HEP</td>\n",
       "      <td>2</td>\n",
       "    </tr>\n",
       "    <tr>\n",
       "      <th>4</th>\n",
       "      <td>8</td>\n",
       "      <td>F</td>\n",
       "      <td>83</td>\n",
       "      <td>D</td>\n",
       "      <td>Y</td>\n",
       "      <td>210</td>\n",
       "      <td>Y</td>\n",
       "      <td>Y</td>\n",
       "      <td>Y</td>\n",
       "      <td>C</td>\n",
       "      <td>...</td>\n",
       "      <td>H</td>\n",
       "      <td>189.0</td>\n",
       "      <td>0.0</td>\n",
       "      <td>N</td>\n",
       "      <td>N</td>\n",
       "      <td>N</td>\n",
       "      <td>N</td>\n",
       "      <td>0</td>\n",
       "      <td>HEP</td>\n",
       "      <td>4</td>\n",
       "    </tr>\n",
       "  </tbody>\n",
       "</table>\n",
       "<p>5 rows × 27 columns</p>\n",
       "</div>"
      ],
      "text/plain": [
       "   RDELAY SEX  AGE RCONSC RVISINF  RSBP RDEF1 RDEF2 RDEF3 RDEF4  ... RXHEP  \\\n",
       "0      20   F   79      D       N   175     Y     Y     Y     Y  ...     L   \n",
       "1      24   M   62      F       N   150     N     Y     Y     Y  ...     H   \n",
       "2       2   F   90      F       N   200     N     N     N     Y  ...     L   \n",
       "3      30   M   57      F       N   150     N     Y     Y     N  ...     L   \n",
       "4       8   F   83      D       Y   210     Y     Y     Y     C  ...     H   \n",
       "\n",
       "      TD OCCODE DRSISC DRSH DRSUNK DPE recurrentstroke  trt  count_def  \n",
       "0   29.0    1.0      N    N      N   N               0  HEP          6  \n",
       "1  184.0    0.0      N    N      N   N               0  HEP          3  \n",
       "2   55.0    1.0      N    N      N   N               0  HEP          2  \n",
       "3  187.0    0.0      N    N      N   N               0  HEP          2  \n",
       "4  189.0    0.0      N    N      N   N               0  HEP          4  \n",
       "\n",
       "[5 rows x 27 columns]"
      ]
     },
     "execution_count": 312,
     "metadata": {},
     "output_type": "execute_result"
    }
   ],
   "source": [
    "obj_1_1['count_def'] = obj_1_1[['RDEF1', 'RDEF2',\n",
    "       'RDEF3', 'RDEF4', 'RDEF5', 'RDEF6', 'RDEF7', 'RDEF8']].apply(lambda x: count_def(x),axis = 1)\n",
    "obj_1_1.head()"
   ]
  },
  {
   "cell_type": "code",
   "execution_count": 313,
   "metadata": {},
   "outputs": [
    {
     "data": {
      "text/plain": [
       "4575"
      ]
     },
     "execution_count": 313,
     "metadata": {},
     "output_type": "execute_result"
    }
   ],
   "source": [
    "# patients 4575\n",
    "len(obj_1_1)"
   ]
  },
  {
   "cell_type": "code",
   "execution_count": 314,
   "metadata": {},
   "outputs": [],
   "source": [
    "obj_1_1 = obj_1_1.rename(columns={'RVISINF':\"infarct\",\n",
    "                       'RSBP':\"bloodpressure\" , \"OCCODE\": \"death\", \"SEX\":\"sex\", \"AGE\":\"age\",\n",
    "                       'STYPE':\"strokesubtype\", 'TD':\"timedeath\", \"RXHEP\":\"trt_hep\",\n",
    "                       'RDELAY':\"timedelay\",'RCONSC':'concious', 'RATRIAL' : 'atrialfibrillation'})\n"
   ]
  },
  {
   "cell_type": "code",
   "execution_count": 315,
   "metadata": {},
   "outputs": [],
   "source": [
    "obj_1_1.drop(['RDEF1','RDEF2','RDEF3', 'RDEF4', 'RDEF5', 'RDEF6', 'RDEF7', 'RDEF8', 'DRSISC', 'DRSH', 'DRSUNK','DPE',\"trt\",\"RXASP\"], inplace=True, axis=1)"
   ]
  },
  {
   "cell_type": "code",
   "execution_count": 316,
   "metadata": {},
   "outputs": [
    {
     "data": {
      "text/html": [
       "<div>\n",
       "<style scoped>\n",
       "    .dataframe tbody tr th:only-of-type {\n",
       "        vertical-align: middle;\n",
       "    }\n",
       "\n",
       "    .dataframe tbody tr th {\n",
       "        vertical-align: top;\n",
       "    }\n",
       "\n",
       "    .dataframe thead th {\n",
       "        text-align: right;\n",
       "    }\n",
       "</style>\n",
       "<table border=\"1\" class=\"dataframe\">\n",
       "  <thead>\n",
       "    <tr style=\"text-align: right;\">\n",
       "      <th></th>\n",
       "      <th>timedelay</th>\n",
       "      <th>sex</th>\n",
       "      <th>age</th>\n",
       "      <th>concious</th>\n",
       "      <th>infarct</th>\n",
       "      <th>bloodpressure</th>\n",
       "      <th>strokesubtype</th>\n",
       "      <th>RXASP</th>\n",
       "      <th>atrialfibrillation</th>\n",
       "      <th>trt_hep</th>\n",
       "      <th>timedeath</th>\n",
       "      <th>death</th>\n",
       "      <th>recurrentstroke</th>\n",
       "      <th>trt</th>\n",
       "      <th>count_def</th>\n",
       "    </tr>\n",
       "  </thead>\n",
       "  <tbody>\n",
       "    <tr>\n",
       "      <th>0</th>\n",
       "      <td>20</td>\n",
       "      <td>F</td>\n",
       "      <td>79</td>\n",
       "      <td>D</td>\n",
       "      <td>N</td>\n",
       "      <td>175</td>\n",
       "      <td>TACS</td>\n",
       "      <td>N</td>\n",
       "      <td>N</td>\n",
       "      <td>L</td>\n",
       "      <td>29.0</td>\n",
       "      <td>1.0</td>\n",
       "      <td>0</td>\n",
       "      <td>HEP</td>\n",
       "      <td>6</td>\n",
       "    </tr>\n",
       "    <tr>\n",
       "      <th>1</th>\n",
       "      <td>24</td>\n",
       "      <td>M</td>\n",
       "      <td>62</td>\n",
       "      <td>F</td>\n",
       "      <td>N</td>\n",
       "      <td>150</td>\n",
       "      <td>TACS</td>\n",
       "      <td>N</td>\n",
       "      <td>N</td>\n",
       "      <td>H</td>\n",
       "      <td>184.0</td>\n",
       "      <td>0.0</td>\n",
       "      <td>0</td>\n",
       "      <td>HEP</td>\n",
       "      <td>3</td>\n",
       "    </tr>\n",
       "    <tr>\n",
       "      <th>2</th>\n",
       "      <td>2</td>\n",
       "      <td>F</td>\n",
       "      <td>90</td>\n",
       "      <td>F</td>\n",
       "      <td>N</td>\n",
       "      <td>200</td>\n",
       "      <td>PACS</td>\n",
       "      <td>N</td>\n",
       "      <td>N</td>\n",
       "      <td>L</td>\n",
       "      <td>55.0</td>\n",
       "      <td>1.0</td>\n",
       "      <td>0</td>\n",
       "      <td>HEP</td>\n",
       "      <td>2</td>\n",
       "    </tr>\n",
       "    <tr>\n",
       "      <th>3</th>\n",
       "      <td>30</td>\n",
       "      <td>M</td>\n",
       "      <td>57</td>\n",
       "      <td>F</td>\n",
       "      <td>N</td>\n",
       "      <td>150</td>\n",
       "      <td>LACS</td>\n",
       "      <td>N</td>\n",
       "      <td>N</td>\n",
       "      <td>L</td>\n",
       "      <td>187.0</td>\n",
       "      <td>0.0</td>\n",
       "      <td>0</td>\n",
       "      <td>HEP</td>\n",
       "      <td>2</td>\n",
       "    </tr>\n",
       "    <tr>\n",
       "      <th>4</th>\n",
       "      <td>8</td>\n",
       "      <td>F</td>\n",
       "      <td>83</td>\n",
       "      <td>D</td>\n",
       "      <td>Y</td>\n",
       "      <td>210</td>\n",
       "      <td>TACS</td>\n",
       "      <td>N</td>\n",
       "      <td>N</td>\n",
       "      <td>H</td>\n",
       "      <td>189.0</td>\n",
       "      <td>0.0</td>\n",
       "      <td>0</td>\n",
       "      <td>HEP</td>\n",
       "      <td>4</td>\n",
       "    </tr>\n",
       "  </tbody>\n",
       "</table>\n",
       "</div>"
      ],
      "text/plain": [
       "   timedelay sex  age concious infarct  bloodpressure strokesubtype RXASP  \\\n",
       "0         20   F   79        D       N            175          TACS     N   \n",
       "1         24   M   62        F       N            150          TACS     N   \n",
       "2          2   F   90        F       N            200          PACS     N   \n",
       "3         30   M   57        F       N            150          LACS     N   \n",
       "4          8   F   83        D       Y            210          TACS     N   \n",
       "\n",
       "  atrialfibrillation trt_hep  timedeath  death  recurrentstroke  trt  \\\n",
       "0                  N       L       29.0    1.0                0  HEP   \n",
       "1                  N       H      184.0    0.0                0  HEP   \n",
       "2                  N       L       55.0    1.0                0  HEP   \n",
       "3                  N       L      187.0    0.0                0  HEP   \n",
       "4                  N       H      189.0    0.0                0  HEP   \n",
       "\n",
       "   count_def  \n",
       "0          6  \n",
       "1          3  \n",
       "2          2  \n",
       "3          2  \n",
       "4          4  "
      ]
     },
     "execution_count": 316,
     "metadata": {},
     "output_type": "execute_result"
    }
   ],
   "source": [
    "obj_1_1.head()"
   ]
  },
  {
   "cell_type": "code",
   "execution_count": null,
   "metadata": {},
   "outputs": [],
   "source": [
    "obj_1_1.to_csv('/Users/siboraseranaj/Desktop/project/STA440- Project/HEP_LorH.csv')"
   ]
  }
 ],
 "metadata": {
  "kernelspec": {
   "display_name": "Python 3",
   "language": "python",
   "name": "python3"
  },
  "language_info": {
   "codemirror_mode": {
    "name": "ipython",
    "version": 3
   },
   "file_extension": ".py",
   "mimetype": "text/x-python",
   "name": "python",
   "nbconvert_exporter": "python",
   "pygments_lexer": "ipython3",
   "version": "3.8.5"
  }
 },
 "nbformat": 4,
 "nbformat_minor": 2
}
