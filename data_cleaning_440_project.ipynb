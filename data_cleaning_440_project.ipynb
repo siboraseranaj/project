{
 "cells": [
  {
   "cell_type": "code",
   "execution_count": 112,
   "metadata": {},
   "outputs": [],
   "source": [
    "import pandas as pd\n",
    "import numpy as np\n",
    "import matplotlib.pyplot as plt"
   ]
  },
  {
   "cell_type": "code",
   "execution_count": 113,
   "metadata": {},
   "outputs": [
    {
     "name": "stderr",
     "output_type": "stream",
     "text": [
      "/Users/siboraseranaj/opt/anaconda3/lib/python3.8/site-packages/IPython/core/interactiveshell.py:3146: DtypeWarning: Columns (31) have mixed types.Specify dtype option on import or set low_memory=False.\n",
      "  has_raised = await self.run_ast_nodes(code_ast.body, cell_name,\n"
     ]
    }
   ],
   "source": [
    "df = pd.read_csv('/Users/siboraseranaj/Desktop/project/STA440- Project/IST_corrected1.csv')"
   ]
  },
  {
   "cell_type": "code",
   "execution_count": 114,
   "metadata": {},
   "outputs": [
    {
     "data": {
      "text/plain": [
       "array([2, 4, 3, 9, 1, 0])"
      ]
     },
     "execution_count": 114,
     "metadata": {},
     "output_type": "execute_result"
    }
   ],
   "source": [
    "# result at six months\n",
    "df[\"OCCODE\"].unique()"
   ]
  },
  {
   "cell_type": "markdown",
   "metadata": {},
   "source": [
    "## Create the dataset for both objectives"
   ]
  },
  {
   "cell_type": "code",
   "execution_count": 115,
   "metadata": {},
   "outputs": [],
   "source": [
    "# stroke columns 'DRSISC', \"DRSH\", \"DRSUNK\", \"DPE\"\n",
    "\n",
    "columns = ['RDELAY', 'SEX','AGE','RCONSC','RVISINF','RSBP','RDEF1',\n",
    "           'RDEF2','RDEF3','RDEF4','RDEF5','RDEF6','RDEF7',\n",
    "           'RDEF8','STYPE','RXASP','RATRIAL','RXHEP','TD','OCCODE','DRSISC', \"DRSH\", \"DRSUNK\", \"DPE\",'DRSISCD', \"DRSHD\", \"DRSUNKD\"]"
   ]
  },
  {
   "cell_type": "code",
   "execution_count": 116,
   "metadata": {},
   "outputs": [],
   "source": [
    "obj1_df = df[columns]"
   ]
  },
  {
   "cell_type": "code",
   "execution_count": 117,
   "metadata": {},
   "outputs": [
    {
     "name": "stderr",
     "output_type": "stream",
     "text": [
      "<ipython-input-117-7b95df005131>:9: SettingWithCopyWarning: \n",
      "A value is trying to be set on a copy of a slice from a DataFrame.\n",
      "Try using .loc[row_indexer,col_indexer] = value instead\n",
      "\n",
      "See the caveats in the documentation: https://pandas.pydata.org/pandas-docs/stable/user_guide/indexing.html#returning-a-view-versus-a-copy\n",
      "  obj1_df['OCCODE'] = obj1_df['OCCODE'].apply(lambda x: change_OCCODE(x))\n"
     ]
    }
   ],
   "source": [
    "def change_OCCODE(row):\n",
    "    if row == 1:\n",
    "        return 1\n",
    "    elif row == 9 or row == 0:\n",
    "        return None\n",
    "    else:\n",
    "        return 0\n",
    "\n",
    "obj1_df['OCCODE'] = obj1_df['OCCODE'].apply(lambda x: change_OCCODE(x))"
   ]
  },
  {
   "cell_type": "code",
   "execution_count": 118,
   "metadata": {},
   "outputs": [],
   "source": [
    "obj1_df = obj1_df.dropna(subset=['OCCODE']).reset_index(drop = True)"
   ]
  },
  {
   "cell_type": "code",
   "execution_count": 119,
   "metadata": {},
   "outputs": [],
   "source": [
    "def stroke_func(row):\n",
    "    if row[0] == 'Y' or row[1] == 'Y' or row[2] == 'Y':\n",
    "        return 1\n",
    "    else:\n",
    "        return 0\n",
    "    \n",
    "obj1_df['recurrentstroke'] = obj1_df[['DRSISC', \"DRSH\", \"DRSUNK\"]].apply(lambda x: stroke_func(x),axis = 1)"
   ]
  },
  {
   "cell_type": "code",
   "execution_count": 121,
   "metadata": {},
   "outputs": [],
   "source": [
    "obj1_df['DRSISCD'].fillna('None',inplace = True)\n",
    "obj1_df['DRSHD'].fillna('None',inplace = True)\n",
    "obj1_df['DRSUNKD'].fillna('None',inplace = True)"
   ]
  },
  {
   "cell_type": "code",
   "execution_count": 122,
   "metadata": {},
   "outputs": [],
   "source": [
    "def recurrent_dates(row):\n",
    "    if row[0] == 'None' and row[1] == 'None' and row[2] == 'None':\n",
    "        return 14\n",
    "    elif row[0] != 'None' and row[1] == 'None' and row[2] == 'None':\n",
    "        return row[0]\n",
    "    elif row[0] == 'None' and row[1] != 'None' and row[2] == 'None':\n",
    "        return row[1]\n",
    "    elif row[0] == 'None' and row[1] == 'None' and row[2] != 'None':\n",
    "        return row[2]\n",
    "    \n",
    "obj1_df['recurrentstrokedate'] = obj1_df[['DRSISCD', \"DRSHD\", \"DRSUNKD\"]].apply(lambda x: recurrent_dates(x), axis = 1)\n",
    "    \n",
    "    "
   ]
  },
  {
   "cell_type": "code",
   "execution_count": 123,
   "metadata": {},
   "outputs": [],
   "source": [
    "def change_OCD(row):\n",
    "    if row[0] == 1 and row[1] > 183:\n",
    "        return 0\n",
    "    else:\n",
    "        return row[0]\n",
    "    \n",
    "obj1_df['OCCODE'] = obj1_df[['OCCODE','TD']].apply(lambda x:change_OCD(x), axis = 1)"
   ]
  },
  {
   "cell_type": "code",
   "execution_count": 124,
   "metadata": {},
   "outputs": [],
   "source": [
    "def change_TD(row):\n",
    "    if row > 183:\n",
    "        return 183\n",
    "    else:\n",
    "        return row\n",
    "    \n",
    "obj1_df['TD'] = obj1_df['TD'].apply(lambda x:change_TD(x))"
   ]
  },
  {
   "cell_type": "code",
   "execution_count": 146,
   "metadata": {},
   "outputs": [
    {
     "data": {
      "text/html": [
       "<div>\n",
       "<style scoped>\n",
       "    .dataframe tbody tr th:only-of-type {\n",
       "        vertical-align: middle;\n",
       "    }\n",
       "\n",
       "    .dataframe tbody tr th {\n",
       "        vertical-align: top;\n",
       "    }\n",
       "\n",
       "    .dataframe thead th {\n",
       "        text-align: right;\n",
       "    }\n",
       "</style>\n",
       "<table border=\"1\" class=\"dataframe\">\n",
       "  <thead>\n",
       "    <tr style=\"text-align: right;\">\n",
       "      <th></th>\n",
       "      <th>OCCODE</th>\n",
       "      <th>TD</th>\n",
       "    </tr>\n",
       "  </thead>\n",
       "  <tbody>\n",
       "    <tr>\n",
       "      <th>0</th>\n",
       "      <td>0.0</td>\n",
       "      <td>183.0</td>\n",
       "    </tr>\n",
       "    <tr>\n",
       "      <th>1</th>\n",
       "      <td>0.0</td>\n",
       "      <td>183.0</td>\n",
       "    </tr>\n",
       "    <tr>\n",
       "      <th>2</th>\n",
       "      <td>0.0</td>\n",
       "      <td>183.0</td>\n",
       "    </tr>\n",
       "    <tr>\n",
       "      <th>3</th>\n",
       "      <td>0.0</td>\n",
       "      <td>183.0</td>\n",
       "    </tr>\n",
       "    <tr>\n",
       "      <th>4</th>\n",
       "      <td>0.0</td>\n",
       "      <td>183.0</td>\n",
       "    </tr>\n",
       "  </tbody>\n",
       "</table>\n",
       "</div>"
      ],
      "text/plain": [
       "   OCCODE     TD\n",
       "0     0.0  183.0\n",
       "1     0.0  183.0\n",
       "2     0.0  183.0\n",
       "3     0.0  183.0\n",
       "4     0.0  183.0"
      ]
     },
     "execution_count": 146,
     "metadata": {},
     "output_type": "execute_result"
    }
   ],
   "source": [
    "obj1_df[['OCCODE','TD']].head(5)"
   ]
  },
  {
   "cell_type": "code",
   "execution_count": 126,
   "metadata": {},
   "outputs": [],
   "source": [
    "def treatment(row):\n",
    "    if row[0] == 'Y' and row[1] == 'N':\n",
    "        return 'ASP'\n",
    "    elif row[0] == 'N' and (row[1] == 'H' or row[1] == 'L' or row[1] == 'M'):\n",
    "        return 'HEP'\n",
    "    elif row[0] == 'Y' and (row[1] == 'H' or row[1] == 'L' or row[1] == 'M'):\n",
    "        return 'BOTH'\n",
    "    else:\n",
    "        return 'NONE'\n",
    "\n",
    "obj1_df['trt'] = obj1_df[['RXASP','RXHEP']].apply(lambda x: treatment(x), axis = 1)    "
   ]
  },
  {
   "cell_type": "code",
   "execution_count": 127,
   "metadata": {},
   "outputs": [],
   "source": [
    "# only people with aspirin or heparin 9146 patients\n",
    "HEPorASP = obj1_df.loc[((obj1_df[\"trt\"] == \"ASP\") | (obj1_df[\"trt\"] == \"HEP\"))]"
   ]
  },
  {
   "cell_type": "code",
   "execution_count": 128,
   "metadata": {},
   "outputs": [],
   "source": [
    "HEPorASP = HEPorASP.dropna(subset=['RATRIAL']).reset_index(drop = True)"
   ]
  },
  {
   "cell_type": "code",
   "execution_count": 129,
   "metadata": {},
   "outputs": [
    {
     "data": {
      "text/plain": [
       "9146"
      ]
     },
     "execution_count": 129,
     "metadata": {},
     "output_type": "execute_result"
    }
   ],
   "source": [
    "len(HEPorASP)"
   ]
  },
  {
   "cell_type": "code",
   "execution_count": 130,
   "metadata": {},
   "outputs": [],
   "source": [
    "# numerical value for amount of symptoms presented at admission\n",
    "def count_def(row):\n",
    "    count = 0\n",
    "    for i in range(len(row)):\n",
    "        if row[i] == 'Y':\n",
    "            count += 1\n",
    "    return count\n",
    "\n",
    "HEPorASP['physicaldeficit'] = HEPorASP[['RDEF1', 'RDEF2',\n",
    "       'RDEF3', 'RDEF4', 'RDEF5', 'RDEF6', 'RDEF7', 'RDEF8']].apply(lambda x: count_def(x),axis = 1)"
   ]
  },
  {
   "cell_type": "code",
   "execution_count": 131,
   "metadata": {},
   "outputs": [
    {
     "name": "stdout",
     "output_type": "stream",
     "text": [
      "Index(['RDELAY', 'SEX', 'AGE', 'RCONSC', 'RVISINF', 'RSBP', 'RDEF1', 'RDEF2',\n",
      "       'RDEF3', 'RDEF4', 'RDEF5', 'RDEF6', 'RDEF7', 'RDEF8', 'STYPE', 'RXASP',\n",
      "       'RATRIAL', 'RXHEP', 'TD', 'OCCODE', 'DRSISC', 'DRSH', 'DRSUNK', 'DPE',\n",
      "       'DRSISCD', 'DRSHD', 'DRSUNKD', 'recurrentstroke', 'recurrentstrokedate',\n",
      "       'trt', 'physicaldeficit'],\n",
      "      dtype='object')\n"
     ]
    }
   ],
   "source": [
    "print(HEPorASP.columns)\n",
    "obj_1_1 = HEPorASP.copy()"
   ]
  },
  {
   "cell_type": "code",
   "execution_count": 132,
   "metadata": {},
   "outputs": [],
   "source": [
    "HEPorASP = HEPorASP.rename(columns={'RVISINF':\"infarct\",\n",
    "                       'RSBP':\"bloodpressure\" , \"OCCODE\": \"death\", \"SEX\":\"sex\", \"AGE\":\"age\",\n",
    "                       'STYPE':\"strokesubtype\", 'TD':\"timedeath\",\n",
    "                       'RDELAY':\"timedelay\",'RCONSC':'concious', 'RATRIAL' : 'atrialfibrillation'})\n"
   ]
  },
  {
   "cell_type": "code",
   "execution_count": 133,
   "metadata": {},
   "outputs": [],
   "source": [
    "HEPorASP.drop(['RDEF1','RDEF2','RDEF3', 'RDEF4', 'RDEF5', 'RDEF6', 'RDEF7', 'RDEF8', 'RXASP', \"RXHEP\", 'DRSISC', 'DRSH', 'DRSUNK', 'DPE', 'DRSISCD', 'DRSHD', 'DRSUNKD'], inplace=True, axis=1)"
   ]
  },
  {
   "cell_type": "code",
   "execution_count": 134,
   "metadata": {},
   "outputs": [],
   "source": [
    "def change_recurrentstroke(row):\n",
    "    if row[0] == 1 and row[1] > 14:\n",
    "        return 0\n",
    "    else:\n",
    "        return row[0]\n",
    "    \n",
    "HEPorASP['recurrentstroke'] = HEPorASP[['recurrentstroke','recurrentstrokedate']].apply(lambda x:change_recurrentstroke(x), axis = 1)"
   ]
  },
  {
   "cell_type": "code",
   "execution_count": 135,
   "metadata": {},
   "outputs": [],
   "source": [
    "def change_recurrentstrokedate(row):\n",
    "    if row > 14:\n",
    "        return 14\n",
    "    else:\n",
    "        return row\n",
    "    \n",
    "HEPorASP['recurrentstrokedate'] = HEPorASP['recurrentstrokedate'].apply(lambda x:change_recurrentstrokedate(x))"
   ]
  },
  {
   "cell_type": "code",
   "execution_count": 145,
   "metadata": {},
   "outputs": [
    {
     "data": {
      "text/html": [
       "<div>\n",
       "<style scoped>\n",
       "    .dataframe tbody tr th:only-of-type {\n",
       "        vertical-align: middle;\n",
       "    }\n",
       "\n",
       "    .dataframe tbody tr th {\n",
       "        vertical-align: top;\n",
       "    }\n",
       "\n",
       "    .dataframe thead th {\n",
       "        text-align: right;\n",
       "    }\n",
       "</style>\n",
       "<table border=\"1\" class=\"dataframe\">\n",
       "  <thead>\n",
       "    <tr style=\"text-align: right;\">\n",
       "      <th></th>\n",
       "      <th>timedelay</th>\n",
       "      <th>sex</th>\n",
       "      <th>age</th>\n",
       "      <th>concious</th>\n",
       "      <th>infarct</th>\n",
       "      <th>bloodpressure</th>\n",
       "      <th>strokesubtype</th>\n",
       "      <th>atrialfibrillation</th>\n",
       "      <th>timedeath</th>\n",
       "      <th>death</th>\n",
       "      <th>recurrentstroke</th>\n",
       "      <th>recurrentstrokedate</th>\n",
       "      <th>trt</th>\n",
       "      <th>physicaldeficit</th>\n",
       "    </tr>\n",
       "  </thead>\n",
       "  <tbody>\n",
       "    <tr>\n",
       "      <th>0</th>\n",
       "      <td>20</td>\n",
       "      <td>F</td>\n",
       "      <td>64</td>\n",
       "      <td>F</td>\n",
       "      <td>N</td>\n",
       "      <td>150</td>\n",
       "      <td>TACS</td>\n",
       "      <td>Y</td>\n",
       "      <td>183.0</td>\n",
       "      <td>0.0</td>\n",
       "      <td>0.0</td>\n",
       "      <td>14.0</td>\n",
       "      <td>ASP</td>\n",
       "      <td>4</td>\n",
       "    </tr>\n",
       "    <tr>\n",
       "      <th>1</th>\n",
       "      <td>19</td>\n",
       "      <td>M</td>\n",
       "      <td>54</td>\n",
       "      <td>F</td>\n",
       "      <td>N</td>\n",
       "      <td>160</td>\n",
       "      <td>POCS</td>\n",
       "      <td>N</td>\n",
       "      <td>183.0</td>\n",
       "      <td>0.0</td>\n",
       "      <td>0.0</td>\n",
       "      <td>14.0</td>\n",
       "      <td>ASP</td>\n",
       "      <td>2</td>\n",
       "    </tr>\n",
       "    <tr>\n",
       "      <th>2</th>\n",
       "      <td>20</td>\n",
       "      <td>F</td>\n",
       "      <td>79</td>\n",
       "      <td>D</td>\n",
       "      <td>N</td>\n",
       "      <td>175</td>\n",
       "      <td>TACS</td>\n",
       "      <td>N</td>\n",
       "      <td>29.0</td>\n",
       "      <td>1.0</td>\n",
       "      <td>0.0</td>\n",
       "      <td>14.0</td>\n",
       "      <td>HEP</td>\n",
       "      <td>6</td>\n",
       "    </tr>\n",
       "    <tr>\n",
       "      <th>3</th>\n",
       "      <td>24</td>\n",
       "      <td>M</td>\n",
       "      <td>62</td>\n",
       "      <td>F</td>\n",
       "      <td>N</td>\n",
       "      <td>150</td>\n",
       "      <td>TACS</td>\n",
       "      <td>N</td>\n",
       "      <td>183.0</td>\n",
       "      <td>0.0</td>\n",
       "      <td>0.0</td>\n",
       "      <td>14.0</td>\n",
       "      <td>HEP</td>\n",
       "      <td>3</td>\n",
       "    </tr>\n",
       "    <tr>\n",
       "      <th>4</th>\n",
       "      <td>29</td>\n",
       "      <td>F</td>\n",
       "      <td>64</td>\n",
       "      <td>D</td>\n",
       "      <td>Y</td>\n",
       "      <td>130</td>\n",
       "      <td>PACS</td>\n",
       "      <td>N</td>\n",
       "      <td>183.0</td>\n",
       "      <td>0.0</td>\n",
       "      <td>0.0</td>\n",
       "      <td>14.0</td>\n",
       "      <td>ASP</td>\n",
       "      <td>3</td>\n",
       "    </tr>\n",
       "  </tbody>\n",
       "</table>\n",
       "</div>"
      ],
      "text/plain": [
       "   timedelay sex  age concious infarct  bloodpressure strokesubtype  \\\n",
       "0         20   F   64        F       N            150          TACS   \n",
       "1         19   M   54        F       N            160          POCS   \n",
       "2         20   F   79        D       N            175          TACS   \n",
       "3         24   M   62        F       N            150          TACS   \n",
       "4         29   F   64        D       Y            130          PACS   \n",
       "\n",
       "  atrialfibrillation  timedeath  death  recurrentstroke  recurrentstrokedate  \\\n",
       "0                  Y      183.0    0.0              0.0                 14.0   \n",
       "1                  N      183.0    0.0              0.0                 14.0   \n",
       "2                  N       29.0    1.0              0.0                 14.0   \n",
       "3                  N      183.0    0.0              0.0                 14.0   \n",
       "4                  N      183.0    0.0              0.0                 14.0   \n",
       "\n",
       "   trt  physicaldeficit  \n",
       "0  ASP                4  \n",
       "1  ASP                2  \n",
       "2  HEP                6  \n",
       "3  HEP                3  \n",
       "4  ASP                3  "
      ]
     },
     "execution_count": 145,
     "metadata": {},
     "output_type": "execute_result"
    }
   ],
   "source": [
    "HEPorASP.head()"
   ]
  },
  {
   "cell_type": "code",
   "execution_count": 137,
   "metadata": {},
   "outputs": [],
   "source": [
    "HEPorASP.to_csv('/Users/siboraseranaj/Desktop/project/STA440- Project/death.csv')"
   ]
  },
  {
   "cell_type": "markdown",
   "metadata": {},
   "source": [
    "# not used"
   ]
  },
  {
   "cell_type": "code",
   "execution_count": 97,
   "metadata": {},
   "outputs": [],
   "source": [
    "#obj_1_1[\"RXHEP\"].unique()"
   ]
  },
  {
   "cell_type": "code",
   "execution_count": 98,
   "metadata": {},
   "outputs": [],
   "source": [
    "#obj_1_1 = obj_1_1[obj_1_1[\"RXASP\"] == \"N\"].reset_index(drop = True)"
   ]
  },
  {
   "cell_type": "code",
   "execution_count": 99,
   "metadata": {},
   "outputs": [],
   "source": [
    "#obj_1_1 = obj_1_1[obj_1_1[\"RXHEP\"] != \"N\"].reset_index(drop = True)"
   ]
  },
  {
   "cell_type": "code",
   "execution_count": 100,
   "metadata": {},
   "outputs": [],
   "source": [
    "#def trthep(row):\n",
    "  #if row == \"L\":\n",
    "        #return \"L\"\n",
    "    #else:\n",
    "        #return \"H\"\n",
    "    \n",
    "#obj_1_1[\"RXHEP\"] = obj_1_1[\"RXHEP\"].apply(lambda x : trthep(x))"
   ]
  },
  {
   "cell_type": "code",
   "execution_count": 101,
   "metadata": {},
   "outputs": [],
   "source": [
    "#obj_1_1 = obj_1_1.dropna(subset=['RATRIAL']).reset_index(drop = True)"
   ]
  },
  {
   "cell_type": "code",
   "execution_count": 149,
   "metadata": {},
   "outputs": [],
   "source": [
    "#obj_1_1['physicaldeficit'] = obj_1_1[['RDEF1', 'RDEF2',\n",
    "       #'RDEF3', 'RDEF4', 'RDEF5', 'RDEF6', 'RDEF7', 'RDEF8']].apply(lambda x: count_def(x),axis = 1)\n",
    "#obj_1_1.head()"
   ]
  },
  {
   "cell_type": "code",
   "execution_count": 103,
   "metadata": {},
   "outputs": [],
   "source": [
    "#obj_1_1 = obj1_df.loc[((obj1_df[\"trt\"] == \"ASP\") | (obj1_df[\"trt\"] == \"HEP\"))]\n",
    "#len(obj_1_1)\n",
    "#obj_1_1[\"trt\"].unique()"
   ]
  },
  {
   "cell_type": "code",
   "execution_count": 148,
   "metadata": {},
   "outputs": [],
   "source": [
    "#print(obj_1_1.columns)"
   ]
  },
  {
   "cell_type": "code",
   "execution_count": 105,
   "metadata": {},
   "outputs": [],
   "source": [
    "#obj_1_1 = obj_1_1.rename(columns={'RVISINF':\"infarct\",\n",
    "                       #'RSBP':\"bloodpressure\" , \"OCCODE\": \"death\", \"SEX\":\"sex\", \"AGE\":\"age\",\n",
    "                       #'STYPE':\"strokesubtype\", 'TD':\"timedeath\",\n",
    "                       #'RDELAY':\"timedelay\",'RCONSC':'concious', 'RATRIAL' : 'atrialfibrillation'})\n"
   ]
  },
  {
   "cell_type": "code",
   "execution_count": 106,
   "metadata": {},
   "outputs": [],
   "source": [
    "#obj_1_1.drop(['RDEF1','RDEF2','RDEF3', 'RDEF4', 'RDEF5', 'RDEF6', 'RDEF7', 'RDEF8', 'DRSISC', 'DRSH', 'DRSUNK','DRSISCD', 'DRSHD','DRSUNKD',\"RXASP\"], inplace=True, axis=1)"
   ]
  },
  {
   "cell_type": "code",
   "execution_count": 107,
   "metadata": {},
   "outputs": [],
   "source": [
    "#def change_recurrentstroke(row):\n",
    "    #if row[0] == 1 and row[1] > 14:\n",
    "        #return 0\n",
    "    #else:\n",
    "        #return row[0]\n",
    "    \n",
    "#obj1_df['recurrentstroke'] = obj1_df[['recurrentstroke','recurrentstrokedate']].apply(lambda x:change_recurrentstroke(x), axis = 1)"
   ]
  },
  {
   "cell_type": "code",
   "execution_count": 108,
   "metadata": {},
   "outputs": [],
   "source": [
    "#obj_1_1.to_csv('/Users/siboraseranaj/Desktop/project/STA440- Project/HEP_LorH.csv')"
   ]
  },
  {
   "cell_type": "code",
   "execution_count": 147,
   "metadata": {},
   "outputs": [],
   "source": [
    "#obj1_df"
   ]
  },
  {
   "cell_type": "code",
   "execution_count": 109,
   "metadata": {},
   "outputs": [],
   "source": [
    "#def change_recurrentstrokedate(row):\n",
    "    #if row > 14:\n",
    "        #return 14\n",
    "   # else:\n",
    "        #return row\n",
    "    \n",
    "#obj1_df['recurrentstrokedate'] = obj1_df['recurrentstrokedate'].apply(lambda x:change_recurrentstrokedate(x))"
   ]
  }
 ],
 "metadata": {
  "kernelspec": {
   "display_name": "Python 3",
   "language": "python",
   "name": "python3"
  },
  "language_info": {
   "codemirror_mode": {
    "name": "ipython",
    "version": 3
   },
   "file_extension": ".py",
   "mimetype": "text/x-python",
   "name": "python",
   "nbconvert_exporter": "python",
   "pygments_lexer": "ipython3",
   "version": "3.8.5"
  }
 },
 "nbformat": 4,
 "nbformat_minor": 2
}
